{
 "cells": [
  {
   "cell_type": "markdown",
   "metadata": {},
   "source": [
    "# Manual de Uso para Evaluación de Notebooks de Python"
   ]
  },
  {
   "cell_type": "markdown",
   "metadata": {},
   "source": [
    "# Índice\n",
    "\n",
    "1. [Introducción](#Introducción)\n",
    "2. [Requisitos Previos](#requisitos-previos)\n",
    "3. [Estructura de Directorios](#estructura-de-directorios)\n",
    "4. [Instalación](#instalación)\n",
    "6. [Uso del Programa](#uso-del-programa)\n",
    "7. [Resultados Esperados](#resultados-esperados)"
   ]
  },
  {
   "cell_type": "markdown",
   "metadata": {},
   "source": [
    "## 1. Introducción\n",
    "\n",
    "Este proyecto ha sido desarrollado para evaluar de manera automática los notebooks de Python entregados por los alumnos. El objetivo principal es proporcionar una evaluación rápida y precisa, facilitando así el proceso de corrección y retroalimentación.\n",
    "\n",
    "En este notebook, proporcionaremos todas las instrucciones necesarias sobre cómo instalar y utilizar el programa. Asegúrate de seguir cada paso cuidadosamente para garantizar una correcta configuración y uso del sistema de evaluación automática."
   ]
  },
  {
   "cell_type": "markdown",
   "metadata": {},
   "source": [
    "## 2. Requisitos Previos\n",
    "\n",
    "Para poder utilizar este programa de evaluación automática de notebooks de Python, es necesario cumplir con los siguientes requisitos previos:\n",
    "\n",
    "1. **Python**:\n",
    "   - Asegúrate de tener Python instalado en tu sistema. El proyecto se desarrolló con python versión 3.11.6 aunque debería funcionar con versiones anteriores..\n",
    "   - Puedes descargar Python desde [python.org](https://www.python.org/).\n",
    "\n",
    "2. **Entorno Virtual**:\n",
    "   - Se recomienda crear un entorno virtual para gestionar las dependencias del proyecto sin afectar a otras configuraciones de Python en tu sistema.\n",
    "   - Para crear un entorno virtual, abre una terminal y navega al directorio del proyecto. Luego, ejecuta los siguientes comandos:\n",
    "\n",
    "     ```sh\n",
    "     python -m venv venv\n",
    "     source venv/bin/activate   # En Windows, usa `venv\\Scripts\\activate`\n",
    "     ```\n",
    "\n",
    "3. **Instalación de Librerías**:\n",
    "   - Las librerías necesarias para este proyecto están listadas en el archivo `requirements.txt`.\n",
    "   - Para instalar estas librerías, asegúrate de que tu entorno virtual esté activado y luego ejecuta:\n",
    "\n",
    "     ```sh\n",
    "     pip install -r requirements.txt\n",
    "     ```\n",
    "\n",
    "Es fundamental que la estructura de directorios y los ficheros estén organizados e instalados correctamente, como se explicará en la sección siguiente. Esto garantiza que el programa funcione sin problemas y pueda acceder a todos los recursos necesarios.\n"
   ]
  },
  {
   "cell_type": "markdown",
   "metadata": {},
   "source": [
    "## 3. Estrucrura de directorios\n",
    "\n",
    "<center>\n",
    "\n",
    "<img src=\"imgs/estructura_dirs.PNG\" alt=\"Estructura directorios\" style=\"max-width:70%\">"
   ]
  },
  {
   "cell_type": "markdown",
   "metadata": {},
   "source": [
    "\n",
    "\n",
    "\n",
    "1. **Raíz/**:\n",
    "   - Este es el directorio principal del proyecto. Contiene todos los subdirectorios y archivos necesarios para el funcionamiento del programa.\n",
    "   - **prompt.txt**: Archivo de texto que contiene las instrucciones o el prompt utilizado para guiar el modelo de OpenAI en la evaluación de los notebooks. Es crucial para personalizar las evaluaciones según los criterios específicos.\n",
    "\n",
    "2. **entregas/**:\n",
    "   - Este directorio almacena los notebooks entregados por los alumnos. Cada notebook debe estar nombrado de manera consistente (por ejemplo, `apellido_nombre.ipynb`) para facilitar la identificación y evaluación.\n",
    "\n",
    "3. **examenes/**:\n",
    "   - Aquí se guardan los notebooks de exámenes que contienen las intrucciones y los enunciados de los ejercicios. Similar al directorio de entregas, los archivos deben estar bien organizados y nombrados adecuadamente para asegurar una evaluación precisa.\n",
    "\n",
    "4. **reports/**:\n",
    "   - Este directorio se utiliza para almacenar los informes generados después de la evaluación de los notebooks. Los informes contienen los comentarios y las calificaciones proporcionadas por el modelo `chatgpt4-o-mini`.\n",
    "\n",
    "5. **imgs/**:\n",
    "   - En este directorio se almacenan las imágenes usadas en estas instrucciones.\n",
    "\n",
    "Es fundamental que esta estructura de directorios se mantenga para asegurar que el programa pueda acceder a todos los archivos y directorios necesarios sin problemas.\n"
   ]
  },
  {
   "cell_type": "markdown",
   "metadata": {},
   "source": [
    "## 4. Instalación\n",
    "\n",
    "Para instalar el programa de evaluación automática de notebooks, sigue los siguientes pasos:\n",
    "\n",
    "1. **Clona el Repositorio**:\n",
    "   - Clona el repositorio del proyecto desde el control de versiones (por ejemplo, GitHub) en tu máquina local. Usa el siguiente comando:\n",
    "\n",
    "     ```sh\n",
    "     git clone https://github.com/alfonso-santos/corrector-examenes-python/tree/main\n",
    "     ```\n",
    "\n",
    "2. **Navega al Directorio del Proyecto**:\n",
    "   - Una vez clonado el repositorio, navega al directorio del proyecto:\n",
    "\n",
    "     ```sh\n",
    "     cd <nombre_del_directorio>\n",
    "     ```\n",
    "\n",
    "3. **Crea y Activa un Entorno Virtual**:\n",
    "   - Es recomendable crear un entorno virtual para instalar las dependencias del proyecto de manera aislada. Ejecuta los siguientes comandos para crear y activar un entorno virtual:\n",
    "\n",
    "     ```sh\n",
    "     python -m venv venv\n",
    "     source venv/bin/activate   # En Windows, usa `venv\\Scripts\\activate`\n",
    "     ```\n",
    "\n",
    "4. **Instala las Dependencias**:\n",
    "   - Con el entorno virtual activado, instala las librerías necesarias que se encuentran listadas en el archivo `requirements.txt`:\n",
    "\n",
    "     ```sh\n",
    "     pip install -r requirements.txt\n",
    "     ```\n",
    "\n",
    "Estos pasos aseguran que todas las dependencias necesarias estén instaladas y que el entorno esté configurado correctamente para utilizar el programa de evaluación automática de notebooks.\n"
   ]
  }
 ],
 "metadata": {
  "kernelspec": {
   "display_name": "Python 3",
   "language": "python",
   "name": "python3"
  },
  "language_info": {
   "name": "python",
   "version": "3.11.6"
  }
 },
 "nbformat": 4,
 "nbformat_minor": 2
}
